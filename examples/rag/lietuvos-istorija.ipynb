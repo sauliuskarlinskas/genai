{
 "cells": [
  {
   "cell_type": "code",
   "execution_count": null,
   "metadata": {},
   "outputs": [],
   "source": [
    "from dotenv import load_dotenv\n",
    "import os\n",
    "\n",
    "# Load environment variables from .env file\n",
    "load_dotenv()\n",
    "\n",
    "# Get the OpenAI API key\n",
    "openai_key = os.getenv('OPENAI_API_KEY')\n",
    "\n",
    "# Print the OpenAI API key\n",
    "#print(openai_key)"
   ]
  },
  {
   "cell_type": "code",
   "execution_count": null,
   "metadata": {},
   "outputs": [],
   "source": [
    "from langchain_community.document_loaders import PyPDFLoader\n",
    "\n",
    "file_path = (\n",
    "    \"./data/Lietuvos istorija - Visuotinė lietuvių enciklopedija.pdf\"\n",
    ")\n",
    "\n",
    "loader = PyPDFLoader(file_path)\n",
    "\n",
    "visuotine_documents = loader.load()\n",
    "#from rich import print\n",
    "#print(visuotine_documents)     "
   ]
  },
  {
   "cell_type": "code",
   "execution_count": null,
   "metadata": {},
   "outputs": [],
   "source": [
    "from langchain_community.document_loaders import PyPDFLoader\n",
    "\n",
    "file_path = (\n",
    "    \"./data/Lietuvos_istorija.pdf\"\n",
    ")\n",
    "\n",
    "loader = PyPDFLoader(file_path)\n",
    "\n",
    "vikipedija_documents = loader.load()\n",
    "#from rich import print\n",
    "#print(vikipedija_documents)"
   ]
  },
  {
   "cell_type": "code",
   "execution_count": null,
   "metadata": {},
   "outputs": [],
   "source": [
    "merged_documents = visuotine_documents + vikipedija_documents\n",
    "\n",
    "#print(merged_documents)"
   ]
  },
  {
   "cell_type": "code",
   "execution_count": null,
   "metadata": {},
   "outputs": [],
   "source": [
    "from langchain_text_splitters import RecursiveCharacterTextSplitter\n",
    "\n",
    "text_splitter = RecursiveCharacterTextSplitter(\n",
    "    chunk_size=3000,  # chunk size (characters)\n",
    "    chunk_overlap=200,  # chunk overlap (characters)\n",
    "    add_start_index=True,  # track index in original document\n",
    ")\n",
    "all_splits = text_splitter.split_documents(merged_documents)\n",
    "\n",
    "print(f\"Split blog post into {len(all_splits)} sub-documents.\")"
   ]
  },
  {
   "cell_type": "code",
   "execution_count": 8,
   "metadata": {},
   "outputs": [],
   "source": [
    "from langchain_openai import OpenAIEmbeddings\n",
    "\n",
    "embeddings = OpenAIEmbeddings(model=\"text-embedding-3-large\", api_key=openai_key)\n",
    "\n",
    "from langchain_core.vectorstores import InMemoryVectorStore\n",
    "\n",
    "vector_store = InMemoryVectorStore(embeddings)\n",
    "\n",
    "document_ids = vector_store.add_documents(documents=all_splits)"
   ]
  },
  {
   "cell_type": "code",
   "execution_count": 11,
   "metadata": {},
   "outputs": [
    {
     "name": "stderr",
     "output_type": "stream",
     "text": [
      "c:\\Users\\gaidy\\Documents\\genai\\genai\\.venv\\Lib\\site-packages\\langsmith\\client.py:253: LangSmithMissingAPIKeyWarning: API key must be provided when using hosted LangSmith API\n",
      "  warnings.warn(\n"
     ]
    }
   ],
   "source": [
    "from langchain import hub\n",
    "\n",
    "prompt = hub.pull(\"rlm/rag-prompt\")\n",
    "\n",
    "example_messages = prompt.invoke(\n",
    "    {\"context\": \"(čia įrašykite kontekstą)\", \"question\": \"(čia įrašykite klausimą)\"}\n",
    ").to_messages()\n",
    "\n",
    "assert len(example_messages) == 1\n",
    "#print(example_messages[0].content)"
   ]
  },
  {
   "cell_type": "code",
   "execution_count": 17,
   "metadata": {},
   "outputs": [
    {
     "data": {
      "text/html": [
       "<pre style=\"white-space:pre;overflow-x:auto;line-height:normal;font-family:Menlo,'DejaVu Sans Mono',consolas,'Courier New',monospace\"> Žalgirio mūšis yra vienas iš žymiausių mūšių Lietuvos istorijoje. Jis vyko <span style=\"color: #008080; text-decoration-color: #008080; font-weight: bold\">1410</span> m. liepos <span style=\"color: #008080; text-decoration-color: #008080; font-weight: bold\">15</span> d. ir buvo kovojama \n",
       "tarp Lietuvos ir Lenkijos karių bei Kryžiuočių ir Livonijos ordinų. Mūšis baigėsi Lietuvos ir Lenkijos karių \n",
       "pergalėmis. Mūšyje dalyvavo ir Lietuvos didysis kunigaikštis Vytautas.\n",
       "</pre>\n"
      ],
      "text/plain": [
       " Žalgirio mūšis yra vienas iš žymiausių mūšių Lietuvos istorijoje. Jis vyko \u001b[1;36m1410\u001b[0m m. liepos \u001b[1;36m15\u001b[0m d. ir buvo kovojama \n",
       "tarp Lietuvos ir Lenkijos karių bei Kryžiuočių ir Livonijos ordinų. Mūšis baigėsi Lietuvos ir Lenkijos karių \n",
       "pergalėmis. Mūšyje dalyvavo ir Lietuvos didysis kunigaikštis Vytautas.\n"
      ]
     },
     "metadata": {},
     "output_type": "display_data"
    }
   ],
   "source": [
    "from langchain.llms import OpenAI\n",
    "\n",
    "llm = OpenAI(api_key=openai_key)\n",
    "\n",
    "question = \"surask žymiausius mūšius lietuvoje.\"\n",
    "\n",
    "retrieved_docs = vector_store.similarity_search(question)\n",
    "docs_content = \"\\n\\n\".join(doc.page_content for doc in retrieved_docs)\n",
    "promptAnswer = prompt.invoke({\"question\": question, \"context\": docs_content})\n",
    "answer = llm.invoke(promptAnswer)\n",
    "print(answer)"
   ]
  }
 ],
 "metadata": {
  "kernelspec": {
   "display_name": ".venv",
   "language": "python",
   "name": "python3"
  },
  "language_info": {
   "codemirror_mode": {
    "name": "ipython",
    "version": 3
   },
   "file_extension": ".py",
   "mimetype": "text/x-python",
   "name": "python",
   "nbconvert_exporter": "python",
   "pygments_lexer": "ipython3",
   "version": "3.13.2"
  }
 },
 "nbformat": 4,
 "nbformat_minor": 2
}
